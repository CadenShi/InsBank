{
 "cells": [
  {
   "cell_type": "code",
   "execution_count": 11,
   "metadata": {},
   "outputs": [],
   "source": [
    "import json\n",
    "\n",
    "\n",
    "def j_load(path):\n",
    "    if path.endswith('.jsonl'):\n",
    "        data_list = []\n",
    "        with open(path, 'r', encoding='utf-8') as file:\n",
    "            for line in file:\n",
    "                try:\n",
    "                    data_list.append(json.loads(line))\n",
    "                except:\n",
    "                    continue\n",
    "        return data_list\n",
    "    else:\n",
    "        with open(path, 'r') as f:\n",
    "            return json.load(f)\n"
   ]
  },
  {
   "cell_type": "code",
   "execution_count": 31,
   "metadata": {},
   "outputs": [
    {
     "name": "stderr",
     "output_type": "stream",
     "text": [
      "Special tokens have been added in the vocabulary, make sure the associated word embeddings are fine-tuned or trained.\n"
     ]
    }
   ],
   "source": [
    "import transformers\n",
    "tokenizer = transformers.AutoTokenizer.from_pretrained('/mnt/public02/usr/yuanpeiwen/allmodels/Meta-Llama-3-8B-base-original')\n",
    "\n",
    "def merge_turns(conv):\n",
    "    turns = [turn['value'].strip() for turn in conv['conversations']]\n",
    "    conv_string = ' '.join(turns)\n",
    "\n",
    "    return conv_string\n",
    "\n",
    "def cal_token(data):\n",
    "    \n",
    "    data = map(merge_turns, data)\n",
    "    tokenized_data = [tokenizer(text, add_special_tokens=False) for text in data]\n",
    "    token_num = [len(sent['input_ids']) for sent in tokenized_data]\n",
    "    return sum(token_num)\n",
    "    "
   ]
  },
  {
   "cell_type": "code",
   "execution_count": 32,
   "metadata": {},
   "outputs": [
    {
     "name": "stdout",
     "output_type": "stream",
     "text": [
      "easy_5sets_no_complexity_add_quality_fixed_alpha05_lambda_09_gamma1_ap_WizardLM_alpaca: 9607.5\t33.0\t1.0\t5927814\n",
      "easy_5sets_no_complexity_deita: 9189.0\t11.0\t1.0\t4240246\n",
      "euclidean_multiply_alpha_0.5_lambda_0.97_momentum_fill_median_gamma_1.0_6k_float32_wizardlm: 8454.0\t9.0\t1.0\t4369743\n",
      "euclidean_multiply_alpha_0.5_lambda_0.99_momentum_fill_median_gamma_1.0_6k_float32_wizardlm: 8755.0\t9.0\t1.0\t4491576\n",
      "euclidean_multiply_alpha_0.5_lambda_0.97_momentum_fill_median_gamma_2.0_6k_float32_wizardlm: 8372.0\t9.0\t1.0\t4341902\n",
      "euclidean_multiply_alpha_0.5_lambda_0.99_momentum_fill_median_gamma_2.0_6k_float32_wizardlm: 8716.0\t9.0\t1.0\t4484305\n",
      "euclidean_multiply_alpha_0.8_lambda_0.97_momentum_fill_median_gamma_1.0_6k_float32_wizardlm: 8668.0\t9.0\t1.0\t4443767\n",
      "euclidean_multiply_alpha_0.8_lambda_0.97_momentum_fill_median_gamma_2.0_6k_float32_wizardlm: 8493.0\t9.0\t1.0\t4394677\n",
      "euclidean_multiply_alpha_0.8_lambda_0.99_momentum_fill_median_gamma_2.0_6k_float32_wizardlm: 8681.0\t9.0\t1.0\t4450113\n",
      "minus_cosine_similarity_multiply_alpha_0.0_lambda_0.99_momentum_fill_median_gamma_1.0_6k_WizardLM_alpaca: 8574.0\t9.0\t1.0\t4141071\n",
      "minus_cosine_similarity_multiply_alpha_0.2_lambda_0.99_momentum_fill_median_gamma_1.0_6k_WizardLM_alpaca: 9087.0\t9.0\t1.0\t4463893\n",
      "minus_cosine_similarity_multiply_alpha_0.5_lambda_0.99_momentum_fill_median_gamma_1.0_6k_WizardLM_alpaca: 9098.0\t9.0\t1.0\t4521448\n",
      "minus_cosine_similarity_multiply_alpha_0.8_lambda_0.99_momentum_fill_median_gamma_1.0_6k_WizardLM_alpaca: 9186.0\t8.0\t1.0\t4563886\n",
      "minus_cosine_similarity_multiply_alpha_1.0_lambda_0.99_momentum_fill_median_gamma_1.0_6k_WizardLM_alpaca: 7982.0\t8.0\t1.0\t4189791\n",
      "minus_cosine_similarity_multiply_alpha_0.0_lambda_0.99_momentum_fill_median_gamma_2.0_6k_WizardLM_alpaca: 8396.0\t9.0\t1.0\t4246336\n",
      "minus_cosine_similarity_multiply_alpha_0.2_lambda_0.99_momentum_fill_median_gamma_2.0_6k_WizardLM_alpaca: 8686.0\t9.0\t1.0\t4394724\n",
      "minus_cosine_similarity_multiply_alpha_0.5_lambda_0.99_momentum_fill_median_gamma_2.0_6k_WizardLM_alpaca: 8613.0\t9.0\t1.0\t4406771\n",
      "minus_cosine_similarity_multiply_alpha_0.8_lambda_0.99_momentum_fill_median_gamma_2.0_6k_WizardLM_alpaca: 8540.0\t8.0\t1.0\t4387335\n",
      "minus_cosine_similarity_multiply_alpha_1.0_lambda_0.99_momentum_fill_median_gamma_2.0_6k_WizardLM_alpaca: 8544.0\t8.0\t1.0\t4395355\n"
     ]
    }
   ],
   "source": [
    "dataset = (\n",
    "    \"easy_5sets_no_complexity_add_quality_fixed_alpha05_lambda_09_gamma1_ap_WizardLM_alpaca\",\n",
    "    \"easy_5sets_no_complexity_deita\",\n",
    "    \n",
    "    \"euclidean_multiply_alpha_0.5_lambda_0.97_momentum_fill_median_gamma_1.0_6k_float32_wizardlm\",\n",
    "    \"euclidean_multiply_alpha_0.5_lambda_0.99_momentum_fill_median_gamma_1.0_6k_float32_wizardlm\",\n",
    "    \"euclidean_multiply_alpha_0.5_lambda_0.97_momentum_fill_median_gamma_2.0_6k_float32_wizardlm\",\n",
    "    \"euclidean_multiply_alpha_0.5_lambda_0.99_momentum_fill_median_gamma_2.0_6k_float32_wizardlm\",\n",
    "\n",
    "    \"euclidean_multiply_alpha_0.8_lambda_0.97_momentum_fill_median_gamma_1.0_6k_float32_wizardlm\",\n",
    "    # euclidean_multiply_alpha_0.8_lambda_0.99_momentum_fill_median_gamma_1.0_6k_float32_wizardlm\n",
    "    \"euclidean_multiply_alpha_0.8_lambda_0.97_momentum_fill_median_gamma_2.0_6k_float32_wizardlm\",\n",
    "    \"euclidean_multiply_alpha_0.8_lambda_0.99_momentum_fill_median_gamma_2.0_6k_float32_wizardlm\",\n",
    "\n",
    "    \"minus_cosine_similarity_multiply_alpha_0.0_lambda_0.99_momentum_fill_median_gamma_1.0_6k_WizardLM_alpaca\",\n",
    "    \"minus_cosine_similarity_multiply_alpha_0.2_lambda_0.99_momentum_fill_median_gamma_1.0_6k_WizardLM_alpaca\",\n",
    "    \"minus_cosine_similarity_multiply_alpha_0.5_lambda_0.99_momentum_fill_median_gamma_1.0_6k_WizardLM_alpaca\",\n",
    "    \"minus_cosine_similarity_multiply_alpha_0.8_lambda_0.99_momentum_fill_median_gamma_1.0_6k_WizardLM_alpaca\",\n",
    "    \"minus_cosine_similarity_multiply_alpha_1.0_lambda_0.99_momentum_fill_median_gamma_1.0_6k_WizardLM_alpaca\",\n",
    "\n",
    "    \"minus_cosine_similarity_multiply_alpha_0.0_lambda_0.99_momentum_fill_median_gamma_2.0_6k_WizardLM_alpaca\",\n",
    "    \"minus_cosine_similarity_multiply_alpha_0.2_lambda_0.99_momentum_fill_median_gamma_2.0_6k_WizardLM_alpaca\",\n",
    "    \"minus_cosine_similarity_multiply_alpha_0.5_lambda_0.99_momentum_fill_median_gamma_2.0_6k_WizardLM_alpaca\",\n",
    "    \"minus_cosine_similarity_multiply_alpha_0.8_lambda_0.99_momentum_fill_median_gamma_2.0_6k_WizardLM_alpaca\",\n",
    "    \"minus_cosine_similarity_multiply_alpha_1.0_lambda_0.99_momentum_fill_median_gamma_2.0_6k_WizardLM_alpaca\",\n",
    ")\n",
    "\n",
    "for name in dataset:\n",
    "    path = f\"/mnt/public02/usr/yuanpeiwen/instruction_pool/LLaMA-Factory/data/{name}.json\"\n",
    "\n",
    "    data = j_load(path)\n",
    "    len_list = [len(sample['conversations'])/2 for sample in data]\n",
    "    print(f\"{name}: {sum(len_list)}\\t{max(len_list)}\\t{min(len_list)}\\t{cal_token(data)}\")"
   ]
  },
  {
   "cell_type": "code",
   "execution_count": 34,
   "metadata": {},
   "outputs": [
    {
     "name": "stdout",
     "output_type": "stream",
     "text": [
      "euclidean_addition_alpha_0.5_lambda_0.97_momentum_fill_median_gamma_1.0_6k_float16_wizardlm: 8414.0\t9.0\t1.0\t4357972\n"
     ]
    }
   ],
   "source": [
    "name=\"euclidean_addition_alpha_0.5_lambda_0.97_momentum_fill_median_gamma_1.0_6k_float16_wizardlm\"\n",
    "path = f\"/mnt/public02/usr/yuanpeiwen/instruction_pool/LLaMA-Factory/data/{name}.json\"\n",
    "data = j_load(path)\n",
    "len_list = [len(sample['conversations'])/2 for sample in data]\n",
    "print(f\"{name}: {sum(len_list)}\\t{max(len_list)}\\t{min(len_list)}\\t{cal_token(data)}\")"
   ]
  },
  {
   "cell_type": "code",
   "execution_count": 59,
   "metadata": {},
   "outputs": [
    {
     "name": "stdout",
     "output_type": "stream",
     "text": [
      "euclidean_addition_alpha_0.5_lambda_0.97_momentum_fill_median_gamma_0.5_6k_float16_wizardlm: 8597.0\t9.0\t1.0\t4419853\n"
     ]
    }
   ],
   "source": [
    "name=\"euclidean_addition_alpha_0.5_lambda_0.97_momentum_fill_median_gamma_0.5_6k_float16_wizardlm\"\n",
    "path = f\"/mnt/public02/usr/yuanpeiwen/instruction_pool/LLaMA-Factory/data/{name}.json\"\n",
    "data = j_load(path)\n",
    "len_list = [len(sample['conversations'])/2 for sample in data]\n",
    "print(f\"{name}: {sum(len_list)}\\t{max(len_list)}\\t{min(len_list)}\\t{cal_token(data)}\")"
   ]
  },
  {
   "cell_type": "code",
   "execution_count": 1,
   "metadata": {},
   "outputs": [],
   "source": [
    "import torch\n",
    "sharegpt = torch.load('/mnt/public02/usr/yuanpeiwen/instruction_pool/clustering/embeddings/ShareGPT_V3_unfiltered_cleaned_split_no_imsorry_instruction_embedding.pth')"
   ]
  },
  {
   "cell_type": "code",
   "execution_count": 14,
   "metadata": {},
   "outputs": [
    {
     "data": {
      "text/plain": [
       "dict_keys(['id', 'conversations', 'quality', 'complexity', 'instructions', 'formatted_instruction', 'embedding', 'dataset'])"
      ]
     },
     "execution_count": 14,
     "metadata": {},
     "output_type": "execute_result"
    }
   ],
   "source": [
    "sharegpt[0].keys()"
   ]
  },
  {
   "cell_type": "code",
   "execution_count": 15,
   "metadata": {},
   "outputs": [
    {
     "name": "stdout",
     "output_type": "stream",
     "text": [
      "SignificanceResult(statistic=0.017314406154385197, pvalue=1.3647047102829296e-07)\n"
     ]
    },
    {
     "data": {
      "image/png": "[encoded data removed]",
      "text/plain": [
       "<Figure size 640x480 with 1 Axes>"
      ]
     },
     "metadata": {},
     "output_type": "display_data"
    }
   ],
   "source": [
    "turn_num = [len(item['conversations'])//2 for item in sharegpt]\n",
    "quality = [item['quality'] for item in sharegpt]\n",
    "\n",
    "from scipy.stats import spearmanr\n",
    "print(spearmanr(turn_num, quality))\n",
    "\n",
    "import matplotlib.pyplot as plt\n",
    "x_values = range(len(turn_num))\n",
    "plt.plot(x_values, turn_num)\n",
    "plt.show()"
   ]
  },
  {
   "cell_type": "code",
   "execution_count": 54,
   "metadata": {},
   "outputs": [
    {
     "data": {
      "text/plain": [
       "torch.Size([92628])"
      ]
     },
     "execution_count": 54,
     "metadata": {},
     "output_type": "execute_result"
    }
   ],
   "source": [
    "turn_num.shape"
   ]
  },
  {
   "cell_type": "code",
   "execution_count": 57,
   "metadata": {},
   "outputs": [
    {
     "name": "stderr",
     "output_type": "stream",
     "text": [
      "/tmp/ipykernel_110406/3736331349.py:1: UserWarning: To copy construct from a tensor, it is recommended to use sourceTensor.clone().detach() or sourceTensor.clone().detach().requires_grad_(True), rather than torch.tensor(sourceTensor).\n",
      "  turn_num = torch.tensor(turn_num)\n",
      "/tmp/ipykernel_110406/3736331349.py:2: UserWarning: To copy construct from a tensor, it is recommended to use sourceTensor.clone().detach() or sourceTensor.clone().detach().requires_grad_(True), rather than torch.tensor(sourceTensor).\n",
      "  quality = torch.tensor(quality)\n"
     ]
    }
   ],
   "source": [
    "turn_num = torch.tensor(turn_num)\n",
    "quality = torch.tensor(quality)\n",
    "\n",
    "_, top_idx = torch.topk(quality, 92628, largest=True)\n",
    "top_idx = top_idx[60000:80000]"
   ]
  },
  {
   "cell_type": "code",
   "execution_count": 58,
   "metadata": {},
   "outputs": [
    {
     "name": "stdout",
     "output_type": "stream",
     "text": [
      "SignificanceResult(statistic=0.02004561053344414, pvalue=0.004582782718958244)\n"
     ]
    },
    {
     "data": {
      "image/png": "[encoded data removed]",
      "text/plain": [
       "<Figure size 640x480 with 1 Axes>"
      ]
     },
     "metadata": {},
     "output_type": "display_data"
    }
   ],
   "source": [
    "print(spearmanr(quality[top_idx], turn_num[top_idx]))\n",
    "\n",
    "x_values = range(top_idx.shape[0])\n",
    "plt.plot(x_values, turn_num[top_idx])\n",
    "plt.show()"
   ]
  },
  {
   "cell_type": "code",
   "execution_count": null,
   "metadata": {},
   "outputs": [],
   "source": []
  }
 ],
 "metadata": {
  "kernelspec": {
   "display_name": "Python 3",
   "language": "python",
   "name": "python3"
  },
  "language_info": {
   "codemirror_mode": {
    "name": "ipython",
    "version": 3
   },
   "file_extension": ".py",
   "mimetype": "text/x-python",
   "name": "python",
   "nbconvert_exporter": "python",
   "pygments_lexer": "ipython3",
   "version": "3.10.6"
  }
 },
 "nbformat": 4,
 "nbformat_minor": 2
}
